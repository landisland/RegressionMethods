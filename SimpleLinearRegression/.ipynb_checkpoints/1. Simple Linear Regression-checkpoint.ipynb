{
 "cells": [
  {
   "cell_type": "markdown",
   "id": "9894aa16",
   "metadata": {},
   "source": [
    "Reference Link: [Simple Linear Regression](https://online.stat.psu.edu/stat501/lesson/1)"
   ]
  },
  {
   "cell_type": "markdown",
   "id": "a847ef07",
   "metadata": {},
   "source": [
    "# 1.1 What is Simple Linear Regression?"
   ]
  },
  {
   "cell_type": "markdown",
   "id": "f8cb8fd4",
   "metadata": {},
   "source": [
    "A statistical method that allows us to summarize and study relationships between two continuous (quantitative) variables:\n",
    "\n",
    "- One variable, denoted $x$, is regarded as the **predictor, explanatory, or independent variable.**\n",
    "- The other variable, denoted $y$, is regarded as the **response, outcome, or dependent variable.**\n",
    "\n",
    "Because the other terms are used less frequently today, we'll use the **\"predictor\"** and **\"response\"** terms to refer to the variables encountered in this repo. "
   ]
  },
  {
   "cell_type": "markdown",
   "id": "b1c05e5d",
   "metadata": {},
   "source": [
    "## Types of relationships"
   ]
  },
  {
   "cell_type": "markdown",
   "id": "ec133017",
   "metadata": {},
   "source": [
    "### 1. Deterministic (or functional) relationships"
   ]
  },
  {
   "cell_type": "code",
   "execution_count": 1,
   "id": "2eccea2b",
   "metadata": {},
   "outputs": [],
   "source": [
    "import matplotlib.pyplot as plt\n",
    "import numpy as np"
   ]
  },
  {
   "cell_type": "code",
   "execution_count": 3,
   "id": "20ea7752",
   "metadata": {},
   "outputs": [
    {
     "data": {
      "image/png": "[encoded data removed]",
      "text/plain": [
       "<Figure size 432x288 with 1 Axes>"
      ]
     },
     "metadata": {
      "needs_background": "light"
     },
     "output_type": "display_data"
    }
   ],
   "source": [
    "# 100 linearly spaced numbers\n",
    "x = np.linspace(0,50,10)\n",
    "\n",
    "# the function, which is y = x^2 here\n",
    "y = (9/5) * x + 32\n",
    "\n",
    "# setting the axes at the centre\n",
    "fig = plt.figure()\n",
    "\n",
    "# plot the function\n",
    "plt.plot(x,y, 'r')\n",
    "plt.xlabel(\"Celsius\")\n",
    "plt.ylabel(\"Fahrenheit\")\n",
    "\n",
    "# show the plot\n",
    "plt.show()"
   ]
  },
  {
   "cell_type": "markdown",
   "id": "d6ee7a28",
   "metadata": {},
   "source": [
    "As you may remember, the relationship between degrees Fahrenheit and degrees Celsius is known to be:\n",
    "\n",
    "$$Fahr = \\dfrac{9}{5}Cels+32$$\n",
    "\n",
    "That is, if you know the temperature in degrees Celsius, you can use this equation to determine the temperature in degrees Fahrenheit exactly."
   ]
  },
  {
   "cell_type": "markdown",
   "id": "c6fca248",
   "metadata": {},
   "source": [
    "### 2. Statistical Relationships"
   ]
  },
  {
   "cell_type": "markdown",
   "id": "3ade1d6b",
   "metadata": {},
   "source": [
    "For each of these deterministic relationships, the equation exactly describes the relationship between the two variables. This course does not examine deterministic relationships. Instead, we are interested in **statistical relationships**, in which the relationship between the variables is not perfect."
   ]
  },
  {
   "cell_type": "code",
   "execution_count": 8,
   "id": "4adc86c0",
   "metadata": {},
   "outputs": [
    {
     "data": {
      "image/png": "[encoded data removed]",
      "text/plain": [
       "<Figure size 432x288 with 1 Axes>"
      ]
     },
     "metadata": {
      "needs_background": "light"
     },
     "output_type": "display_data"
    }
   ],
   "source": [
    "import statsmodels.api as sm\n",
    "\n",
    "X = np.random.rand(100)\n",
    "Y = X + np.random.rand(100)*0.1\n",
    "\n",
    "results = sm.OLS(Y,sm.add_constant(X)).fit()\n",
    "\n",
    "#print(results.summary())\n",
    "\n",
    "plt.scatter(X,Y)\n",
    "\n",
    "X_plot = np.linspace(0,1,100)\n",
    "plt.plot(X_plot, X_plot * results.params[1] + results.params[0])\n",
    "\n",
    "plt.show()"
   ]
  },
  {
   "cell_type": "markdown",
   "id": "102defa9",
   "metadata": {},
   "source": [
    "Indeed, the plot exhibits some \"trend,\" but it also exhibits some \"scatter.\" Therefore, it is a statistical relationship, not a deterministic one."
   ]
  },
  {
   "cell_type": "markdown",
   "id": "baddfe35",
   "metadata": {},
   "source": [
    "# 1.2  What is the \"Best Fitting Line\"?"
   ]
  },
  {
   "cell_type": "markdown",
   "id": "ee4fc395",
   "metadata": {},
   "source": [
    "Looking at the plot below, which line — the solid line or the dashed line — do you think best summarizes the trend between height and weight?"
   ]
  },
  {
   "cell_type": "markdown",
   "id": "3f183a36",
   "metadata": {},
   "source": [
    "![](https://online.stat.psu.edu/onlinecourses/sites/stat501/files/01simple/heightweight.jpeg)"
   ]
  },
  {
   "cell_type": "markdown",
   "id": "bfa95e43",
   "metadata": {},
   "source": [
    "In order to examine which of the two lines is a better fit, we first need to introduce some common notation:\n",
    "- $y_{i}$ denotes the observed response for experimental unit $i$\n",
    "- $x_{i}$ denotes the predictor value for experimental unit $i$\n",
    "- $\\hat{y}_{i}$ is the predicted response (or fitted value) for experimental unit $i$\n",
    "\n",
    "Then, the equation for the best fitting line is:\n",
    "\n",
    "$$\n",
    "\\hat{y}_{i}=b_{0}+b_{1} x_{i}\n",
    "$$\n",
    "\n",
    "Incidentally, recall that an \"experimental unit\" is the object or person on which the measurement is made. In our height and weight example, the experimental units are students.\n",
    "\n",
    "Let's try out the notation on our example with the trend summarized by the line\n",
    "\n",
    "$$\n",
    "w=-266.53+6.1376 h\n",
    "$$"
   ]
  },
  {
   "cell_type": "markdown",
   "id": "9856f44c",
   "metadata": {},
   "source": [
    "The first data point in the list indicates that student 1 is 63 inches tall and weighs 127 pounds. That is, $x_{1}=63$ and $y_{1}=127$. Do you see this point on the plot? If we know this student's height but not his or her weight, we could use the equation of the line to predict his or her weight. We'd predict the student's weight to be $-266.53+6.1376(63)$ or $120.1$ pounds. That is, $\\hat{y}_{1}=120.1$. Clearly, our prediction wouldn't be perfectly correct - it has some \"prediction error\" (or \"residual error\"). In fact, the size of its prediction error is $127-120.1$ or $6.9$ pounds.\n",
    "\n",
    "You might want to roll your cursor over each of the 10 data points to make sure you understand the notation used to keep track of the predictor values, the observed responses and the predicted responses:\n",
    "\n",
    "![](https://s2.loli.net/2022/02/23/ijbz8YBcntNpqG9.png)"
   ]
  },
  {
   "cell_type": "markdown",
   "id": "5fc4f38e",
   "metadata": {},
   "source": [
    "As you can see, the size of the prediction error depends on the data point. If we didn't know the weight of student 5, the equation of the line would predict his or her weight to be $-266.53+$ $6.1376(69)$ or 157 pounds. The size of the prediction error here is $162-157$, or 5 pounds.\n",
    "\n",
    "In general, when we use $\\hat{y}_{i}=b_{0}+b_{1} x_{i}$ to predict the actual response $y_{i}$, we make a prediction error (or residual error) of size:\n",
    "\n",
    "$$\n",
    "e_{i}=y_{i}-\\hat{y}_{i}\n",
    "$$\n",
    "\n",
    "A line that fits the data \"best\" will be one for which the $n$ prediction errors - one for each observed data point - are as small as possible in some overall sense. One way to achieve this goal is to invoke the \"least squares criterion,\" which says to \"minimize the sum of the squared prediction errors.\" That is:\n",
    "- The equation of the best fitting line is: $\\hat{y}_{i}=b_{0}+b_{1} x_{i}$\n",
    "- We just need to find the values $b_{0}$ and $b_{1}$ that make the sum of the squared prediction errors the smallest it can be.\n",
    "- That is, we need to find the values $b_{0}$ and $b_{1}$ that minimize:\n",
    "\n",
    "$$\n",
    "Q=\\sum_{i=1}^{n}\\left(y_{i}-\\hat{y}_{i}\\right)^{2}\n",
    "$$\n",
    "\n",
    "Here's how you might think about this quantity $Q$ :\n",
    "- The quantity $e_{i}=y_{i}-\\hat{y}_{i}$ is the prediction error for data point $i$.\n",
    "- The quantity $e_{i}^{2}=\\left(y_{i}-\\hat{y}_{i}\\right)^{2}$ is the squared prediction error for data point $i$.\n",
    "- And, the symbol $\\sum_{i=1}^{n}$ tells us to add up the squared prediction errors for all $n$ data points.\n",
    "\n",
    "Incidentally, if we didn't square the prediction error $e_{i}=y_{i}-\\hat{y}_{i}$ to get $e_{i}^{2}=\\left(y_{i}-\\hat{y}_{i}\\right)^{2}$, the positive and negative prediction errors would cancel each other out when summed, always yielding 0 .\n",
    "\n",
    "Now, being familiar with the least squares criterion, let's take a fresh look at our plot again. In light of the least squares criterion, which line do you now think is the best fitting line?"
   ]
  },
  {
   "cell_type": "markdown",
   "id": "93c3ad16",
   "metadata": {},
   "source": [
    "The following two side-by-side tables illustrate the implementation of the least squares criterion for the two lines up for consideration — the dashed line and the solid line.\n",
    "\n",
    "![](https://s2.loli.net/2022/02/23/MWD34iJnuGpltwE.png)"
   ]
  },
  {
   "cell_type": "markdown",
   "id": "70380556",
   "metadata": {},
   "source": [
    "$$\n",
    "\\text { Therefore, of the two lines, the solid line, } w=-266.53+6.1376 h, \\text { best summarizes the data. }\n",
    "$$"
   ]
  },
  {
   "cell_type": "markdown",
   "id": "ad4643c4",
   "metadata": {},
   "source": [
    "The formulas are determined using methods of calculus. We minimize the equation for the sum of the squared prediction errors:\n",
    "\n",
    "$$\n",
    "Q=\\sum_{i=1}^{n}\\left(y_{i}-\\left(b_{0}+b_{1} x_{i}\\right)\\right)^{2}\n",
    "$$\n",
    "\n",
    "(that is, take the derivative with respect to $b_{0}$ and $b_{1}$, set to 0 , and solve for $b_{0}$ and $b_{1}$ ) and get the \"least squares estimates\" for $b_{0}$ and $b_{1}$ :\n",
    "\n",
    "$$\n",
    "b_{0}=\\bar{y}-b_{1} \\bar{x}\n",
    "$$\n",
    "\n",
    "and:\n",
    "\n",
    "$$\n",
    "b_{1}=\\frac{\\sum_{i=1}^{n}\\left(x_{i}-\\bar{x}\\right)\\left(y_{i}-\\bar{y}\\right)}{\\sum_{i=1}^{n}\\left(x_{i}-\\bar{x}\\right)^{2}}\n",
    "$$"
   ]
  },
  {
   "cell_type": "markdown",
   "id": "53ff9480",
   "metadata": {},
   "source": [
    "# 1.3 The Simple Linear Regression Model\n",
    "\n",
    "We have worked hard to come up with formulas for the intercept $b_{0}$ and the slope $b_{1}$ of the least squares regression line. But, we haven't yet discussed what $b_{0}$ and $b_{1}$ estimate.\n",
    "\n",
    "![](https://s2.loli.net/2022/02/23/G1EOLqn4ZazMR26.png)"
   ]
  },
  {
   "cell_type": "markdown",
   "id": "f0db2777",
   "metadata": {},
   "source": [
    "The sample intercept $b_{0}$ estimates the population intercept $\\beta_{0}$ and the sample slope $b_{1}$ estimates the population slope $\\beta_{1}$."
   ]
  },
  {
   "cell_type": "markdown",
   "id": "f63fc93c",
   "metadata": {},
   "source": [
    "We are now ready to summarize the four conditions that comprise \"the simple linear regression model:\"\n",
    "- Linear Function: The mean of the response, $\\mathrm{E}\\left(Y_{i}\\right)$, at each value of the predictor, $x_{i}$, is a Linear function of the $x_{i}$.\n",
    "- Independent: The errors, $\\epsilon_{i}$, are Independent.\n",
    "- Normally Distributed: The errors, $\\epsilon_{i}$, at each value of the predictor, $x_{i}$, are Normally distributed.\n",
    "- Equal variances (denoted $\\sigma^{2}$ ): The errors, $\\epsilon_{i}$, at each value of the predictor, $x_{i}$, have Equal variances (denoted $\\sigma^{2}$ )."
   ]
  },
  {
   "attachments": {},
   "cell_type": "markdown",
   "id": "a89acbab",
   "metadata": {},
   "source": [
    "# 1.4 Common Error Variance\n",
    "\n",
    "That is, $σ^2$ quantifies how much the responses (y) vary around the (unknown) mean population regression line $\\mu_Y = E(Y) = \\beta_0 + \\beta_1 x$.\n",
    "\n",
    "Why should we care about $\\sigma^2$? The answer to this question pertains to the most common use of an estimated regression line, namely predicting some future response."
   ]
  },
  {
   "cell_type": "code",
   "execution_count": null,
   "id": "b8613da4",
   "metadata": {},
   "outputs": [],
   "source": [
    "### Sample Variance"
   ]
  },
  {
   "cell_type": "code",
   "execution_count": 10,
   "id": "52594eea",
   "metadata": {},
   "outputs": [],
   "source": [
    "### Mean square error"
   ]
  },
  {
   "cell_type": "markdown",
   "id": "8f33f9af",
   "metadata": {},
   "source": [
    "# 1.5 The coefficient of Determination, $r^2$"
   ]
  },
  {
   "cell_type": "markdown",
   "id": "07fd3be1",
   "metadata": {},
   "source": [
    "## Characteristics of $r^2$\n",
    "\n",
    "- Since $r^2$ is a proportion, it is always a number between 0 and 1.\n",
    "- If $r^2 = 1$, all of the data points fall perfectly on the regression line. The predictor $x$ accounts for all of the variation in $y$!\n",
    "- If $r^2 = 0$, the estimated regression line is perfectly horiziontal. The predictor $x$ accounts for none of the variation in $y$!"
   ]
  },
  {
   "cell_type": "code",
   "execution_count": null,
   "id": "629d5a13",
   "metadata": {},
   "outputs": [],
   "source": []
  }
 ],
 "metadata": {
  "kernelspec": {
   "display_name": "Python 3",
   "language": "python",
   "name": "python3"
  },
  "language_info": {
   "codemirror_mode": {
    "name": "ipython",
    "version": 3
   },
   "file_extension": ".py",
   "mimetype": "text/x-python",
   "name": "python",
   "nbconvert_exporter": "python",
   "pygments_lexer": "ipython3",
   "version": "3.8.8"
  }
 },
 "nbformat": 4,
 "nbformat_minor": 5
}
